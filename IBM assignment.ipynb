{
 "cells": [
  {
   "cell_type": "markdown",
   "id": "aa70f4d5-63b1-4aef-9e34-23ad9408cd5b",
   "metadata": {},
   "source": [
    "# My Jupyter Notebook on IBM Watson Studio"
   ]
  },
  {
   "cell_type": "markdown",
   "id": "9215724f-0031-4b0f-b00f-64b881aae268",
   "metadata": {},
   "source": [
    "František Tóth"
   ]
  },
  {
   "cell_type": "markdown",
   "id": "b812c568-3319-4149-9d0c-0b17384e6c74",
   "metadata": {},
   "source": [
    "Data Analyst"
   ]
  },
  {
   "cell_type": "markdown",
   "id": "bdca9cba-32d3-4ddd-bd15-d25360c17b5e",
   "metadata": {},
   "source": [
    "*I am interested in data science because I have always enjoyed working in Excel on formulas and manipulating data to get the desired results.*"
   ]
  },
  {
   "cell_type": "markdown",
   "id": "f53c4443-eb78-4653-921f-de7f2c5f381e",
   "metadata": {},
   "source": [
    "### The following code below calculates the following math problem: 1+1-21"
   ]
  },
  {
   "cell_type": "code",
   "execution_count": 7,
   "id": "e454f2f2-217e-44a2-b6d0-9801c0577efd",
   "metadata": {},
   "outputs": [
    {
     "data": {
      "text/plain": [
       "-19"
      ]
     },
     "execution_count": 7,
     "metadata": {},
     "output_type": "execute_result"
    }
   ],
   "source": [
    "1+1-21"
   ]
  },
  {
   "cell_type": "markdown",
   "id": "e928e4bf-6550-4493-8924-fc85b2f415b1",
   "metadata": {},
   "source": [
    "---"
   ]
  },
  {
   "cell_type": "markdown",
   "id": "69f22025-ffdd-4e56-9d9a-f073c119acb6",
   "metadata": {},
   "source": [
    "* 1\n",
    "* 2\n",
    "* 3\n",
    "* 4\n",
    "* 5"
   ]
  },
  {
   "cell_type": "markdown",
   "id": "c82e62c7-0fa6-4c0c-8fff-a34d2111e948",
   "metadata": {},
   "source": [
    " \n",
    "![alt text](https://media2.giphy.com/media/3bc9YL28QWi3pYzi1p/giphy.gif?cid=ecf05e477ltartjra4zt4azams6yy8txs5kgl31hsmhmen65&rid=giphy.gif&ct=g\")"
   ]
  }
 ],
 "metadata": {
  "kernelspec": {
   "display_name": "Python",
   "language": "python",
   "name": "conda-env-python-py"
  },
  "language_info": {
   "codemirror_mode": {
    "name": "ipython",
    "version": 3
   },
   "file_extension": ".py",
   "mimetype": "text/x-python",
   "name": "python",
   "nbconvert_exporter": "python",
   "pygments_lexer": "ipython3",
   "version": "3.7.12"
  }
 },
 "nbformat": 4,
 "nbformat_minor": 5
}
